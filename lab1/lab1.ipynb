{
 "cells": [
  {
   "cell_type": "code",
   "execution_count": 1,
   "metadata": {},
   "outputs": [],
   "source": [
    "import numpy as np\n",
    "import pandas as pd\n",
    "import matplotlib.pyplot as plt"
   ]
  },
  {
   "cell_type": "code",
   "execution_count": 73,
   "metadata": {},
   "outputs": [],
   "source": [
    "# Activation Functions\n",
    "def tanh(x):\n",
    "    return np.tanh(x)\n",
    "\n",
    "def d_tanh(x):\n",
    "    return 1 - np.square(np.tanh(x))\n",
    "\n",
    "def sigmoid(x):\n",
    "    return 1/(1 + np.exp(-x))\n",
    "\n",
    "def d_sigmoid(x):\n",
    "    return (1 - sigmoid(x)) * sigmoid(x)\n",
    "\n",
    "# Loss Functions \n",
    "def logloss(y, a):\n",
    "    return -(y*np.log(a) + (1-y)*np.log(1-a))\n",
    "\n",
    "def d_logloss(y, a):\n",
    "    return (a - y)/(a*(1 - a))"
   ]
  },
  {
   "cell_type": "code",
   "execution_count": 74,
   "metadata": {},
   "outputs": [],
   "source": [
    "# The layer class\n",
    "class Layer:\n",
    "\n",
    "    activationFunctions = {\n",
    "        'tanh': (tanh, d_tanh),\n",
    "        'sigmoid': (sigmoid, d_sigmoid)\n",
    "    }\n",
    "    \n",
    "    learning_rate = 0.1\n",
    "\n",
    "    def __init__(self, inputs, neurons, activation):\n",
    "        self.W = np.random.randn(neurons, inputs)\n",
    "        self.b = np.zeros((neurons, 1))\n",
    "        self.act, self.d_act = self.activationFunctions.get(activation)\n",
    "\n",
    "    def feedforward(self, A_prev):\n",
    "        self.A_prev = A_prev\n",
    "        self.Z = np.dot(self.W, self.A_prev) + self.b\n",
    "        self.A = self.act(self.Z)\n",
    "        return self.A\n",
    "\n",
    "    def backprop(self, dA):\n",
    "        dZ = np.multiply(self.d_act(self.Z), dA)\n",
    "        dW = 1/dZ.shape[1] * np.dot(dZ, self.A_prev.T)\n",
    "        db = 1/dZ.shape[1] * np.sum(dZ, axis=1, keepdims=True)\n",
    "        dA_prev = np.dot(self.W.T, dZ)\n",
    "\n",
    "        self.W = self.W - self.learning_rate * dW\n",
    "        self.b = self.b - self.learning_rate * db\n",
    "\n",
    "        return dA_prev\n",
    "    \n",
    "    def printWeights(self):\n",
    "        print(self.W)"
   ]
  },
  {
   "cell_type": "code",
   "execution_count": 137,
   "metadata": {},
   "outputs": [
    {
     "name": "stdout",
     "output_type": "stream",
     "text": [
      "150\n",
      "---------------------------\n",
      "150\n"
     ]
    }
   ],
   "source": [
    "# Read the data set and prepare input data and output data\n",
    "targetValueMap = {\n",
    "        'setosa': [1, 0, 0],\n",
    "        'versicolor': [0, 1, 0],\n",
    "        'virginica': [0, 0, 1]\n",
    "} \n",
    "\n",
    "data = pd.read_csv(\"iris.csv\")\n",
    "\n",
    "training_set = data\n",
    "# training_set = data.sample(n = 10)\n",
    "test_set = data.sample(n = 10)\n",
    "\n",
    "\n",
    "def get_input(df):\n",
    "    temp = df.filter(items=['sepal_length', 'sepal_width', 'petal_length', 'petal_width'])\n",
    "    temp['sepal_length'] = normalize_column(temp['sepal_length'])\n",
    "    temp['sepal_width'] = normalize_column(temp['sepal_width'])\n",
    "    temp['petal_length'] = normalize_column(temp['petal_length'])\n",
    "    temp['petal_width'] = normalize_column(temp['petal_width'])\n",
    "    return np.array(temp).T\n",
    "\n",
    "def normalize_column(column):\n",
    "    col_n=((column-column.min())/(column.max()-column.min()))\n",
    "    return col_n\n",
    "\n",
    "def get_output(df):\n",
    "    output = []\n",
    "    target = df[\"species\"].to_numpy()\n",
    "    for i in target:\n",
    "        output.append(targetValueMap.get(i))\n",
    "    \n",
    "    return np.array(output).T\n",
    "\n",
    "    \n",
    "x_train = get_input(training_set)\n",
    "y_train = get_output(training_set)\n",
    "\n",
    "print(x_train.shape[1])\n",
    "print('---------------------------')\n",
    "print(y_train.shape[1])\n",
    "\n",
    "x_test = get_input(test_set)\n",
    "y_test = get_output(test_set)"
   ]
  },
  {
   "cell_type": "code",
   "execution_count": 138,
   "metadata": {},
   "outputs": [],
   "source": [
    "# Start training the neural network.\n",
    "\n",
    "m = x_train.shape[1]\n",
    "epochs = 5000\n",
    "\n",
    "layers = [Layer(4, 5, 'sigmoid'), Layer(5, 8, 'sigmoid'), Layer(8, 3, 'sigmoid')]\n",
    "costs = [] # to plot graph \n",
    "\n",
    "for epoch in range(epochs):\n",
    "    A = x_train\n",
    "    for layer in layers:\n",
    "        A = layer.feedforward(A)\n",
    "\n",
    "    cost = 1/m * np.sum(logloss(y_train, A))\n",
    "    costs.append(cost)\n",
    "\n",
    "    dA = d_logloss(y_train, A)\n",
    "    for layer in reversed(layers):\n",
    "        dA = layer.backprop(dA)"
   ]
  },
  {
   "cell_type": "code",
   "execution_count": 139,
   "metadata": {},
   "outputs": [
    {
     "name": "stdout",
     "output_type": "stream",
     "text": [
      "---------------------------\n",
      "[[0 0 1]\n",
      " [0 0 1]\n",
      " [0 0 1]\n",
      " [0 0 1]\n",
      " [1 0 0]\n",
      " [1 0 0]\n",
      " [1 0 0]\n",
      " [1 0 0]\n",
      " [0 0 1]\n",
      " [0 0 1]]\n"
     ]
    }
   ],
   "source": [
    "# Print Weights\n",
    "# for layer in layers:\n",
    "#     layer.printWeights()\n",
    "#     print('-----------------------')\n",
    "\n",
    "# print(x_test)\n",
    "print('---------------------------')\n",
    "print(y_test.T)"
   ]
  },
  {
   "cell_type": "code",
   "execution_count": 140,
   "metadata": {},
   "outputs": [
    {
     "name": "stdout",
     "output_type": "stream",
     "text": [
      "[[0.0000 0.0093 0.9955]\n",
      " [0.0000 0.0030 0.9989]\n",
      " [0.0000 0.0093 0.9954]\n",
      " [0.0000 0.0034 0.9986]\n",
      " [0.9954 0.0072 0.0001]\n",
      " [0.9954 0.0072 0.0001]\n",
      " [0.9948 0.0080 0.0001]\n",
      " [0.9959 0.0063 0.0001]\n",
      " [0.0000 0.0037 0.9985]\n",
      " [0.0000 0.0087 0.9957]]\n"
     ]
    }
   ],
   "source": [
    "# Making predictions\n",
    "np.set_printoptions(formatter={'float': lambda x: \"{0:0.4f}\".format(x)})\n",
    "A = x_test\n",
    "for layer in layers:\n",
    "    A = layer.feedforward(A)\n",
    "    \n",
    "print(A.T)\n",
    "    "
   ]
  },
  {
   "cell_type": "code",
   "execution_count": 136,
   "metadata": {},
   "outputs": [
    {
     "data": {
      "text/plain": [
       "[<matplotlib.lines.Line2D at 0x11c8f52b0>]"
      ]
     },
     "execution_count": 136,
     "metadata": {},
     "output_type": "execute_result"
    },
    {
     "data": {
      "image/png": "[encoded data removed]",
      "text/plain": [
       "<Figure size 432x288 with 1 Axes>"
      ]
     },
     "metadata": {
      "needs_background": "light"
     },
     "output_type": "display_data"
    }
   ],
   "source": [
    "plt.plot(range(epochs), costs)"
   ]
  },
  {
   "cell_type": "code",
   "execution_count": null,
   "metadata": {},
   "outputs": [],
   "source": []
  }
 ],
 "metadata": {
  "kernelspec": {
   "display_name": "Python 3",
   "language": "python",
   "name": "python3"
  },
  "language_info": {
   "codemirror_mode": {
    "name": "ipython",
    "version": 3
   },
   "file_extension": ".py",
   "mimetype": "text/x-python",
   "name": "python",
   "nbconvert_exporter": "python",
   "pygments_lexer": "ipython3",
   "version": "3.8.3"
  }
 },
 "nbformat": 4,
 "nbformat_minor": 4
}
