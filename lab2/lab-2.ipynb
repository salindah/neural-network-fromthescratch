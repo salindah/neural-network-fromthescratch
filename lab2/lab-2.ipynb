{
 "cells": [
  {
   "cell_type": "code",
   "execution_count": 1,
   "metadata": {},
   "outputs": [],
   "source": [
    "import numpy as np\n",
    "import matplotlib.pyplot as plt\n",
    "import os\n",
    "import cv2\n",
    "import random"
   ]
  },
  {
   "cell_type": "code",
   "execution_count": 2,
   "metadata": {},
   "outputs": [],
   "source": [
    "\n",
    "IMG_SIZE = 64\n",
    "DOGS_DIR = \"./dogs_and_cats/dogs\"\n",
    "CATS_DIR = \"./dogs_and_cats/cats\"\n",
    "\n",
    "DOG_LABEL = 1\n",
    "CAT_LABEL = 0\n",
    "training_data = []\n",
    "\n",
    "for img_file in os.listdir(DOGS_DIR):  # iterate over 'dogs' directory and load each image. \n",
    "    dog_image = cv2.imread(os.path.join(DOGS_DIR,img_file) ,cv2.IMREAD_GRAYSCALE)  # convert to array\n",
    "    dog_image_resized = cv2.resize(dog_image, (IMG_SIZE, IMG_SIZE))\n",
    "    training_data.append([dog_image_resized, DOG_LABEL]) \n",
    "    \n",
    "for img_file in os.listdir(CATS_DIR):  # iterate over 'cats' directory and load each image.\n",
    "    cat_image = cv2.imread(os.path.join(CATS_DIR,img_file) ,cv2.IMREAD_GRAYSCALE)  # convert to array\n",
    "    cat_image_resized = cv2.resize(cat_image, (IMG_SIZE, IMG_SIZE))\n",
    "    training_data.append([cat_image_resized, CAT_LABEL])\n",
    "    \n",
    "    \n",
    "random.shuffle(training_data)\n",
    "X = [] #Keep each input image arrays.\n",
    "y = [] #Keep label of the each image.\n",
    "\n",
    "for input_image,label in training_data:\n",
    "    X.append(input_image)\n",
    "    y.append(label)"
   ]
  },
  {
   "cell_type": "code",
   "execution_count": 3,
   "metadata": {},
   "outputs": [],
   "source": [
    "import tensorflow as tf\n",
    "from tensorflow.keras.models import Sequential\n",
    "from tensorflow.keras.layers import Dense, Dropout, Activation, Flatten\n",
    "from tensorflow.keras.layers import Conv2D, MaxPooling2D"
   ]
  },
  {
   "cell_type": "code",
   "execution_count": null,
   "metadata": {},
   "outputs": [
    {
     "name": "stdout",
     "output_type": "stream",
     "text": [
      "Train on 14 samples, validate on 6 samples\n",
      "Epoch 1/3\n"
     ]
    }
   ],
   "source": [
    "X = np.array(X).reshape(-1, IMG_SIZE, IMG_SIZE, 1)\n",
    "y = np.array(y)\n",
    "X = X / 255.0\n",
    "\n",
    "model = Sequential()\n",
    "model.add(Conv2D(64, (3, 3), input_shape=X.shape[1:]))\n",
    "model.add(Activation('relu'))\n",
    "model.add(MaxPooling2D(pool_size=(2, 2)))\n",
    "\n",
    "model.add(Conv2D(64, (3, 3)))\n",
    "model.add(Activation('relu'))\n",
    "model.add(MaxPooling2D(pool_size=(2, 2)))\n",
    "\n",
    "model.add(Flatten())  # this converts our 3D feature maps to 1D feature vectors\n",
    "\n",
    "model.add(Dense(64))\n",
    "\n",
    "model.add(Dense(1))\n",
    "model.add(Activation('sigmoid'))\n",
    "\n",
    "model.compile(loss='binary_crossentropy',\n",
    "              optimizer='adam',\n",
    "              metrics=['accuracy'])\n",
    "\n",
    "model.fit(X, y, batch_size=5, epochs=3, validation_split=0.3)\n"
   ]
  },
  {
   "cell_type": "code",
   "execution_count": null,
   "metadata": {},
   "outputs": [],
   "source": []
  }
 ],
 "metadata": {
  "kernelspec": {
   "display_name": "Python 3",
   "language": "python",
   "name": "python3"
  },
  "language_info": {
   "codemirror_mode": {
    "name": "ipython",
    "version": 3
   },
   "file_extension": ".py",
   "mimetype": "text/x-python",
   "name": "python",
   "nbconvert_exporter": "python",
   "pygments_lexer": "ipython3",
   "version": "3.7.7"
  }
 },
 "nbformat": 4,
 "nbformat_minor": 4
}
